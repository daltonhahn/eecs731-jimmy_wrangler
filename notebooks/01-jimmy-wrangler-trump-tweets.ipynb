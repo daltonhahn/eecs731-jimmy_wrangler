{
 "cells": [
  {
   "cell_type": "markdown",
   "metadata": {},
   "source": [
    "# Jimmy Wrangler, Data Explorer\n",
    "\n",
    "Dalton Hahn (2762306)\n",
    "\n",
    "## realDonaldTrump Poll Tweets\n",
    "https://github.com/fivethirtyeight/data/blob/master/trump-twitter/realDonaldTrump_poll_tweets.csv"
   ]
  },
  {
   "cell_type": "markdown",
   "metadata": {},
   "source": [
    "## Exploratory Data Analysis\n",
    "My idea is to examine the three datasets to see if there is any correlation or connection between President Trump's tweets and the lawsuits he and his company have been involved in.  Additionally, I would like to see if there is any correlation or connection between his tweets and his overall approval rating."
   ]
  },
  {
   "cell_type": "code",
   "execution_count": 1,
   "metadata": {},
   "outputs": [],
   "source": [
    "import pandas as pd\n",
    "import numpy as np\n",
    "import datetime as dt\n",
    "import seaborn as sns\n",
    "import matplotlib.pyplot as plt\n",
    "import math\n",
    "from statistics import mean, stdev"
   ]
  },
  {
   "cell_type": "markdown",
   "metadata": {},
   "source": [
    "## Read in the Data"
   ]
  },
  {
   "cell_type": "code",
   "execution_count": 2,
   "metadata": {},
   "outputs": [],
   "source": [
    "df = pd.read_csv(\"../data/external/realDonaldTrump_poll_tweets.csv\")"
   ]
  },
  {
   "cell_type": "code",
   "execution_count": 3,
   "metadata": {},
   "outputs": [
    {
     "data": {
      "text/html": [
       "<div>\n",
       "<style scoped>\n",
       "    .dataframe tbody tr th:only-of-type {\n",
       "        vertical-align: middle;\n",
       "    }\n",
       "\n",
       "    .dataframe tbody tr th {\n",
       "        vertical-align: top;\n",
       "    }\n",
       "\n",
       "    .dataframe thead th {\n",
       "        text-align: right;\n",
       "    }\n",
       "</style>\n",
       "<table border=\"1\" class=\"dataframe\">\n",
       "  <thead>\n",
       "    <tr style=\"text-align: right;\">\n",
       "      <th></th>\n",
       "      <th>id</th>\n",
       "      <th>created_at</th>\n",
       "      <th>text</th>\n",
       "    </tr>\n",
       "  </thead>\n",
       "  <tbody>\n",
       "    <tr>\n",
       "      <th>0</th>\n",
       "      <td>7.656299e+17</td>\n",
       "      <td>8/16/2016 19:22:57</td>\n",
       "      <td>It's just a 2-point race, Clinton 38%, Trump 3...</td>\n",
       "    </tr>\n",
       "  </tbody>\n",
       "</table>\n",
       "</div>"
      ],
      "text/plain": [
       "             id          created_at  \\\n",
       "0  7.656299e+17  8/16/2016 19:22:57   \n",
       "\n",
       "                                                text  \n",
       "0  It's just a 2-point race, Clinton 38%, Trump 3...  "
      ]
     },
     "execution_count": 3,
     "metadata": {},
     "output_type": "execute_result"
    }
   ],
   "source": [
    "df.head(1)"
   ]
  },
  {
   "cell_type": "code",
   "execution_count": 4,
   "metadata": {},
   "outputs": [
    {
     "name": "stdout",
     "output_type": "stream",
     "text": [
      "8/16/2016 19:22:57\n"
     ]
    }
   ],
   "source": [
    "print(df['created_at'][0])"
   ]
  },
  {
   "cell_type": "markdown",
   "metadata": {},
   "source": [
    "## Splitting Timestamp\n",
    "Split the timestame into four components\n",
    "- Month\n",
    "- Day\n",
    "- Year\n",
    "- Time"
   ]
  },
  {
   "cell_type": "code",
   "execution_count": 5,
   "metadata": {},
   "outputs": [],
   "source": [
    "months = []\n",
    "days = []\n",
    "years = []\n",
    "times = []\n",
    "\n",
    "for row in df['created_at']:\n",
    "    month = row.split('/')[0]\n",
    "    months.append(month)\n",
    "    #print(month)\n",
    "    day = row.split('/')[1]\n",
    "    days.append(day)\n",
    "    #print(day)\n",
    "    year = row.split('/')[2].split(' ')[0]\n",
    "    years.append(year)\n",
    "    #print(year)\n",
    "    time = row.split('/')[2].split(' ')[1]\n",
    "    times.append(time)\n",
    "    #print(time)"
   ]
  },
  {
   "cell_type": "code",
   "execution_count": 6,
   "metadata": {},
   "outputs": [
    {
     "name": "stdout",
     "output_type": "stream",
     "text": [
      "448\n",
      "448\n"
     ]
    }
   ],
   "source": [
    "#Check that the splits I've created are the same size as the original data frame\n",
    "print(len(days))\n",
    "print(len(df['created_at']))"
   ]
  },
  {
   "cell_type": "markdown",
   "metadata": {},
   "source": [
    "## Add the newly created columns to the original dataframe"
   ]
  },
  {
   "cell_type": "code",
   "execution_count": 7,
   "metadata": {},
   "outputs": [],
   "source": [
    "df.insert(len(df.columns), 'Month', months, True)\n",
    "df.insert(len(df.columns), 'Day', days, True)\n",
    "df.insert(len(df.columns), 'Year', years, True)\n",
    "df.insert(len(df.columns), 'Time', time, True)"
   ]
  },
  {
   "cell_type": "code",
   "execution_count": 8,
   "metadata": {},
   "outputs": [
    {
     "data": {
      "text/html": [
       "<div>\n",
       "<style scoped>\n",
       "    .dataframe tbody tr th:only-of-type {\n",
       "        vertical-align: middle;\n",
       "    }\n",
       "\n",
       "    .dataframe tbody tr th {\n",
       "        vertical-align: top;\n",
       "    }\n",
       "\n",
       "    .dataframe thead th {\n",
       "        text-align: right;\n",
       "    }\n",
       "</style>\n",
       "<table border=\"1\" class=\"dataframe\">\n",
       "  <thead>\n",
       "    <tr style=\"text-align: right;\">\n",
       "      <th></th>\n",
       "      <th>id</th>\n",
       "      <th>created_at</th>\n",
       "      <th>text</th>\n",
       "      <th>Month</th>\n",
       "      <th>Day</th>\n",
       "      <th>Year</th>\n",
       "      <th>Time</th>\n",
       "    </tr>\n",
       "  </thead>\n",
       "  <tbody>\n",
       "    <tr>\n",
       "      <th>0</th>\n",
       "      <td>7.656299e+17</td>\n",
       "      <td>8/16/2016 19:22:57</td>\n",
       "      <td>It's just a 2-point race, Clinton 38%, Trump 3...</td>\n",
       "      <td>8</td>\n",
       "      <td>16</td>\n",
       "      <td>2016</td>\n",
       "      <td>17:10:49</td>\n",
       "    </tr>\n",
       "    <tr>\n",
       "      <th>1</th>\n",
       "      <td>7.587319e+17</td>\n",
       "      <td>7/28/2016 18:32:31</td>\n",
       "      <td>\"@LallyRay: Poll: Donald Trump Sees 17-Point P...</td>\n",
       "      <td>7</td>\n",
       "      <td>28</td>\n",
       "      <td>2016</td>\n",
       "      <td>17:10:49</td>\n",
       "    </tr>\n",
       "    <tr>\n",
       "      <th>2</th>\n",
       "      <td>7.583505e+17</td>\n",
       "      <td>7/27/2016 17:16:56</td>\n",
       "      <td>Great new poll - thank you!\\n#MakeAmericaGreat...</td>\n",
       "      <td>7</td>\n",
       "      <td>27</td>\n",
       "      <td>2016</td>\n",
       "      <td>17:10:49</td>\n",
       "    </tr>\n",
       "    <tr>\n",
       "      <th>3</th>\n",
       "      <td>7.575775e+17</td>\n",
       "      <td>7/25/2016 14:05:27</td>\n",
       "      <td>Great POLL numbers are coming out all over. Pe...</td>\n",
       "      <td>7</td>\n",
       "      <td>25</td>\n",
       "      <td>2016</td>\n",
       "      <td>17:10:49</td>\n",
       "    </tr>\n",
       "    <tr>\n",
       "      <th>4</th>\n",
       "      <td>7.536034e+17</td>\n",
       "      <td>7/14/2016 14:53:46</td>\n",
       "      <td>Another new poll. Thank you for your support! ...</td>\n",
       "      <td>7</td>\n",
       "      <td>14</td>\n",
       "      <td>2016</td>\n",
       "      <td>17:10:49</td>\n",
       "    </tr>\n",
       "  </tbody>\n",
       "</table>\n",
       "</div>"
      ],
      "text/plain": [
       "             id          created_at  \\\n",
       "0  7.656299e+17  8/16/2016 19:22:57   \n",
       "1  7.587319e+17  7/28/2016 18:32:31   \n",
       "2  7.583505e+17  7/27/2016 17:16:56   \n",
       "3  7.575775e+17  7/25/2016 14:05:27   \n",
       "4  7.536034e+17  7/14/2016 14:53:46   \n",
       "\n",
       "                                                text Month Day  Year      Time  \n",
       "0  It's just a 2-point race, Clinton 38%, Trump 3...     8  16  2016  17:10:49  \n",
       "1  \"@LallyRay: Poll: Donald Trump Sees 17-Point P...     7  28  2016  17:10:49  \n",
       "2  Great new poll - thank you!\\n#MakeAmericaGreat...     7  27  2016  17:10:49  \n",
       "3  Great POLL numbers are coming out all over. Pe...     7  25  2016  17:10:49  \n",
       "4  Another new poll. Thank you for your support! ...     7  14  2016  17:10:49  "
      ]
     },
     "execution_count": 8,
     "metadata": {},
     "output_type": "execute_result"
    }
   ],
   "source": [
    "df.head()"
   ]
  },
  {
   "cell_type": "markdown",
   "metadata": {},
   "source": [
    "## Remove arbitrary ID value that came in with data"
   ]
  },
  {
   "cell_type": "code",
   "execution_count": 9,
   "metadata": {},
   "outputs": [
    {
     "data": {
      "text/html": [
       "<div>\n",
       "<style scoped>\n",
       "    .dataframe tbody tr th:only-of-type {\n",
       "        vertical-align: middle;\n",
       "    }\n",
       "\n",
       "    .dataframe tbody tr th {\n",
       "        vertical-align: top;\n",
       "    }\n",
       "\n",
       "    .dataframe thead th {\n",
       "        text-align: right;\n",
       "    }\n",
       "</style>\n",
       "<table border=\"1\" class=\"dataframe\">\n",
       "  <thead>\n",
       "    <tr style=\"text-align: right;\">\n",
       "      <th></th>\n",
       "      <th>created_at</th>\n",
       "      <th>text</th>\n",
       "      <th>Month</th>\n",
       "      <th>Day</th>\n",
       "      <th>Year</th>\n",
       "      <th>Time</th>\n",
       "    </tr>\n",
       "  </thead>\n",
       "  <tbody>\n",
       "    <tr>\n",
       "      <th>0</th>\n",
       "      <td>8/16/2016 19:22:57</td>\n",
       "      <td>It's just a 2-point race, Clinton 38%, Trump 3...</td>\n",
       "      <td>8</td>\n",
       "      <td>16</td>\n",
       "      <td>2016</td>\n",
       "      <td>17:10:49</td>\n",
       "    </tr>\n",
       "    <tr>\n",
       "      <th>1</th>\n",
       "      <td>7/28/2016 18:32:31</td>\n",
       "      <td>\"@LallyRay: Poll: Donald Trump Sees 17-Point P...</td>\n",
       "      <td>7</td>\n",
       "      <td>28</td>\n",
       "      <td>2016</td>\n",
       "      <td>17:10:49</td>\n",
       "    </tr>\n",
       "    <tr>\n",
       "      <th>2</th>\n",
       "      <td>7/27/2016 17:16:56</td>\n",
       "      <td>Great new poll - thank you!\\n#MakeAmericaGreat...</td>\n",
       "      <td>7</td>\n",
       "      <td>27</td>\n",
       "      <td>2016</td>\n",
       "      <td>17:10:49</td>\n",
       "    </tr>\n",
       "    <tr>\n",
       "      <th>3</th>\n",
       "      <td>7/25/2016 14:05:27</td>\n",
       "      <td>Great POLL numbers are coming out all over. Pe...</td>\n",
       "      <td>7</td>\n",
       "      <td>25</td>\n",
       "      <td>2016</td>\n",
       "      <td>17:10:49</td>\n",
       "    </tr>\n",
       "    <tr>\n",
       "      <th>4</th>\n",
       "      <td>7/14/2016 14:53:46</td>\n",
       "      <td>Another new poll. Thank you for your support! ...</td>\n",
       "      <td>7</td>\n",
       "      <td>14</td>\n",
       "      <td>2016</td>\n",
       "      <td>17:10:49</td>\n",
       "    </tr>\n",
       "  </tbody>\n",
       "</table>\n",
       "</div>"
      ],
      "text/plain": [
       "           created_at                                               text  \\\n",
       "0  8/16/2016 19:22:57  It's just a 2-point race, Clinton 38%, Trump 3...   \n",
       "1  7/28/2016 18:32:31  \"@LallyRay: Poll: Donald Trump Sees 17-Point P...   \n",
       "2  7/27/2016 17:16:56  Great new poll - thank you!\\n#MakeAmericaGreat...   \n",
       "3  7/25/2016 14:05:27  Great POLL numbers are coming out all over. Pe...   \n",
       "4  7/14/2016 14:53:46  Another new poll. Thank you for your support! ...   \n",
       "\n",
       "  Month Day  Year      Time  \n",
       "0     8  16  2016  17:10:49  \n",
       "1     7  28  2016  17:10:49  \n",
       "2     7  27  2016  17:10:49  \n",
       "3     7  25  2016  17:10:49  \n",
       "4     7  14  2016  17:10:49  "
      ]
     },
     "execution_count": 9,
     "metadata": {},
     "output_type": "execute_result"
    }
   ],
   "source": [
    "df = df.drop(axis=1, columns='id')\n",
    "df.head()"
   ]
  },
  {
   "cell_type": "markdown",
   "metadata": {},
   "source": [
    "## Save out edited data into data/processed for use in analysis notebook"
   ]
  },
  {
   "cell_type": "code",
   "execution_count": 10,
   "metadata": {},
   "outputs": [],
   "source": [
    "df.to_csv(\"../data/processed/tweets_processed.csv\")"
   ]
  },
  {
   "cell_type": "code",
   "execution_count": null,
   "metadata": {},
   "outputs": [],
   "source": []
  }
 ],
 "metadata": {
  "kernelspec": {
   "display_name": "Python 3",
   "language": "python",
   "name": "python3"
  },
  "language_info": {
   "codemirror_mode": {
    "name": "ipython",
    "version": 3
   },
   "file_extension": ".py",
   "mimetype": "text/x-python",
   "name": "python",
   "nbconvert_exporter": "python",
   "pygments_lexer": "ipython3",
   "version": "3.7.1"
  }
 },
 "nbformat": 4,
 "nbformat_minor": 2
}
