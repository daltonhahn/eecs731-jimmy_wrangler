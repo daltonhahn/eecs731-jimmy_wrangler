{
 "cells": [
  {
   "cell_type": "markdown",
   "metadata": {},
   "source": [
    "# Jimmy Wrangler, Data Explorer\n",
    "\n",
    "Dalton Hahn (2762306)\n",
    "\n",
    "## Donald Trump Lawsuits\n",
    "https://raw.githubusercontent.com/fivethirtyeight/data/master/trump-lawsuits/trump-lawsuits.csv"
   ]
  },
  {
   "cell_type": "markdown",
   "metadata": {},
   "source": [
    "## Exploratory Data Analysis\n",
    "My idea is to examine the three datasets to see if there is any correlation or connection between President Trump's tweets and the lawsuits he and his company have been involved in.  Additionally, I would like to see if there is any correlation or connection between his tweets and his overall approval rating."
   ]
  },
  {
   "cell_type": "code",
   "execution_count": 1,
   "metadata": {},
   "outputs": [],
   "source": [
    "import pandas as pd\n",
    "import numpy as np\n",
    "import datetime as dt\n",
    "import seaborn as sns\n",
    "import matplotlib.pyplot as plt\n",
    "import math\n",
    "from statistics import mean, stdev"
   ]
  },
  {
   "cell_type": "markdown",
   "metadata": {},
   "source": [
    "## Read in the Data"
   ]
  },
  {
   "cell_type": "code",
   "execution_count": 2,
   "metadata": {},
   "outputs": [],
   "source": [
    "df = pd.read_csv(\"../data/external/trump-lawsuits.csv\")"
   ]
  },
  {
   "cell_type": "code",
   "execution_count": 3,
   "metadata": {},
   "outputs": [
    {
     "data": {
      "text/html": [
       "<div>\n",
       "<style scoped>\n",
       "    .dataframe tbody tr th:only-of-type {\n",
       "        vertical-align: middle;\n",
       "    }\n",
       "\n",
       "    .dataframe tbody tr th {\n",
       "        vertical-align: top;\n",
       "    }\n",
       "\n",
       "    .dataframe thead th {\n",
       "        text-align: right;\n",
       "    }\n",
       "</style>\n",
       "<table border=\"1\" class=\"dataframe\">\n",
       "  <thead>\n",
       "    <tr style=\"text-align: right;\">\n",
       "      <th></th>\n",
       "      <th>docketNumber</th>\n",
       "      <th>dateFiled</th>\n",
       "      <th>caseName</th>\n",
       "      <th>plaintiff</th>\n",
       "      <th>defendant</th>\n",
       "      <th>currentLocation</th>\n",
       "      <th>previousLocation</th>\n",
       "      <th>jurisdiction</th>\n",
       "      <th>judge</th>\n",
       "      <th>nature</th>\n",
       "      <th>TrumpCategory</th>\n",
       "      <th>capacity</th>\n",
       "      <th>type</th>\n",
       "      <th>issue</th>\n",
       "      <th>docketOrig</th>\n",
       "      <th>status</th>\n",
       "    </tr>\n",
       "  </thead>\n",
       "  <tbody>\n",
       "    <tr>\n",
       "      <th>0</th>\n",
       "      <td>2:18-cv-02217</td>\n",
       "      <td>2018-03-06</td>\n",
       "      <td>Clifford v. Trump</td>\n",
       "      <td>Stephanie Clifford</td>\n",
       "      <td>Donald J. Trump; Essential Consultants LLC; Mi...</td>\n",
       "      <td>District Court, Central District of California</td>\n",
       "      <td>NaN</td>\n",
       "      <td>1.0</td>\n",
       "      <td>S. James Otero; Frederick Mumm</td>\n",
       "      <td>190.0</td>\n",
       "      <td>1</td>\n",
       "      <td>1</td>\n",
       "      <td>2</td>\n",
       "      <td>2016 Trump campaign</td>\n",
       "      <td>NaN</td>\n",
       "      <td>2</td>\n",
       "    </tr>\n",
       "  </tbody>\n",
       "</table>\n",
       "</div>"
      ],
      "text/plain": [
       "    docketNumber   dateFiled           caseName           plaintiff  \\\n",
       "0  2:18-cv-02217  2018-03-06  Clifford v. Trump  Stephanie Clifford   \n",
       "\n",
       "                                           defendant  \\\n",
       "0  Donald J. Trump; Essential Consultants LLC; Mi...   \n",
       "\n",
       "                                  currentLocation previousLocation  \\\n",
       "0  District Court, Central District of California              NaN   \n",
       "\n",
       "   jurisdiction                           judge  nature  TrumpCategory  \\\n",
       "0           1.0  S. James Otero; Frederick Mumm   190.0              1   \n",
       "\n",
       "   capacity  type                issue docketOrig  status  \n",
       "0         1     2  2016 Trump campaign        NaN       2  "
      ]
     },
     "execution_count": 3,
     "metadata": {},
     "output_type": "execute_result"
    }
   ],
   "source": [
    "df.head(1)"
   ]
  },
  {
   "cell_type": "markdown",
   "metadata": {},
   "source": [
    "## I only care about the date that a lawsuit was filed, so I will remove all other columns.  I'll keep the column for issue to have some context as to what the lawsuit was regarding."
   ]
  },
  {
   "cell_type": "code",
   "execution_count": 4,
   "metadata": {},
   "outputs": [
    {
     "data": {
      "text/html": [
       "<div>\n",
       "<style scoped>\n",
       "    .dataframe tbody tr th:only-of-type {\n",
       "        vertical-align: middle;\n",
       "    }\n",
       "\n",
       "    .dataframe tbody tr th {\n",
       "        vertical-align: top;\n",
       "    }\n",
       "\n",
       "    .dataframe thead th {\n",
       "        text-align: right;\n",
       "    }\n",
       "</style>\n",
       "<table border=\"1\" class=\"dataframe\">\n",
       "  <thead>\n",
       "    <tr style=\"text-align: right;\">\n",
       "      <th></th>\n",
       "      <th>dateFiled</th>\n",
       "      <th>issue</th>\n",
       "    </tr>\n",
       "  </thead>\n",
       "  <tbody>\n",
       "    <tr>\n",
       "      <th>0</th>\n",
       "      <td>2018-03-06</td>\n",
       "      <td>2016 Trump campaign</td>\n",
       "    </tr>\n",
       "    <tr>\n",
       "      <th>1</th>\n",
       "      <td>2018-07-12</td>\n",
       "      <td>2016 Trump campaign</td>\n",
       "    </tr>\n",
       "    <tr>\n",
       "      <th>2</th>\n",
       "      <td>2018-08-21</td>\n",
       "      <td>2016 Trump campaign</td>\n",
       "    </tr>\n",
       "    <tr>\n",
       "      <th>3</th>\n",
       "      <td>2018-04-30</td>\n",
       "      <td>Defamation</td>\n",
       "    </tr>\n",
       "    <tr>\n",
       "      <th>4</th>\n",
       "      <td>2017-11-30</td>\n",
       "      <td>Mueller investigation</td>\n",
       "    </tr>\n",
       "  </tbody>\n",
       "</table>\n",
       "</div>"
      ],
      "text/plain": [
       "    dateFiled                  issue\n",
       "0  2018-03-06    2016 Trump campaign\n",
       "1  2018-07-12    2016 Trump campaign\n",
       "2  2018-08-21    2016 Trump campaign\n",
       "3  2018-04-30             Defamation\n",
       "4  2017-11-30  Mueller investigation"
      ]
     },
     "execution_count": 4,
     "metadata": {},
     "output_type": "execute_result"
    }
   ],
   "source": [
    "# Dropping columns from approval_topline\n",
    "df = df.drop(axis=1, columns=['docketNumber', 'caseName', 'plaintiff', 'defendant', \n",
    "                              'currentLocation', 'previousLocation', 'jurisdiction', 'judge', 'nature',\n",
    "                             'TrumpCategory', 'capacity', 'type', 'docketOrig', 'status'])\n",
    "df.head()"
   ]
  },
  {
   "cell_type": "markdown",
   "metadata": {},
   "source": [
    "## Will break down the date field into component parts for easier parsing/comparison in the analysis notebook"
   ]
  },
  {
   "cell_type": "code",
   "execution_count": 5,
   "metadata": {},
   "outputs": [],
   "source": [
    "months = []\n",
    "days = []\n",
    "years = []\n",
    "\n",
    "for row in df['dateFiled']:\n",
    "    month = row.split('-')[1]\n",
    "    months.append(month)\n",
    "    #print(month)\n",
    "    day = row.split('-')[2]\n",
    "    days.append(day)\n",
    "    #print(day)\n",
    "    year = row.split('-')[0]\n",
    "    years.append(year)\n",
    "    #print(year)"
   ]
  },
  {
   "cell_type": "code",
   "execution_count": 6,
   "metadata": {},
   "outputs": [
    {
     "name": "stdout",
     "output_type": "stream",
     "text": [
      "57\n",
      "57\n"
     ]
    }
   ],
   "source": [
    "#Check that the splits I've created are the same size as the original data frame\n",
    "print(len(days))\n",
    "print(len(df['dateFiled']))"
   ]
  },
  {
   "cell_type": "code",
   "execution_count": 7,
   "metadata": {},
   "outputs": [
    {
     "data": {
      "text/html": [
       "<div>\n",
       "<style scoped>\n",
       "    .dataframe tbody tr th:only-of-type {\n",
       "        vertical-align: middle;\n",
       "    }\n",
       "\n",
       "    .dataframe tbody tr th {\n",
       "        vertical-align: top;\n",
       "    }\n",
       "\n",
       "    .dataframe thead th {\n",
       "        text-align: right;\n",
       "    }\n",
       "</style>\n",
       "<table border=\"1\" class=\"dataframe\">\n",
       "  <thead>\n",
       "    <tr style=\"text-align: right;\">\n",
       "      <th></th>\n",
       "      <th>dateFiled</th>\n",
       "      <th>issue</th>\n",
       "      <th>Month</th>\n",
       "      <th>Day</th>\n",
       "      <th>Year</th>\n",
       "    </tr>\n",
       "  </thead>\n",
       "  <tbody>\n",
       "    <tr>\n",
       "      <th>0</th>\n",
       "      <td>2018-03-06</td>\n",
       "      <td>2016 Trump campaign</td>\n",
       "      <td>03</td>\n",
       "      <td>06</td>\n",
       "      <td>2018</td>\n",
       "    </tr>\n",
       "    <tr>\n",
       "      <th>1</th>\n",
       "      <td>2018-07-12</td>\n",
       "      <td>2016 Trump campaign</td>\n",
       "      <td>07</td>\n",
       "      <td>12</td>\n",
       "      <td>2018</td>\n",
       "    </tr>\n",
       "    <tr>\n",
       "      <th>2</th>\n",
       "      <td>2018-08-21</td>\n",
       "      <td>2016 Trump campaign</td>\n",
       "      <td>08</td>\n",
       "      <td>21</td>\n",
       "      <td>2018</td>\n",
       "    </tr>\n",
       "    <tr>\n",
       "      <th>3</th>\n",
       "      <td>2018-04-30</td>\n",
       "      <td>Defamation</td>\n",
       "      <td>04</td>\n",
       "      <td>30</td>\n",
       "      <td>2018</td>\n",
       "    </tr>\n",
       "    <tr>\n",
       "      <th>4</th>\n",
       "      <td>2017-11-30</td>\n",
       "      <td>Mueller investigation</td>\n",
       "      <td>11</td>\n",
       "      <td>30</td>\n",
       "      <td>2017</td>\n",
       "    </tr>\n",
       "  </tbody>\n",
       "</table>\n",
       "</div>"
      ],
      "text/plain": [
       "    dateFiled                  issue Month Day  Year\n",
       "0  2018-03-06    2016 Trump campaign    03  06  2018\n",
       "1  2018-07-12    2016 Trump campaign    07  12  2018\n",
       "2  2018-08-21    2016 Trump campaign    08  21  2018\n",
       "3  2018-04-30             Defamation    04  30  2018\n",
       "4  2017-11-30  Mueller investigation    11  30  2017"
      ]
     },
     "execution_count": 7,
     "metadata": {},
     "output_type": "execute_result"
    }
   ],
   "source": [
    "df.insert(len(df.columns), 'Month', months, True)\n",
    "df.insert(len(df.columns), 'Day', days, True)\n",
    "df.insert(len(df.columns), 'Year', years, True)\n",
    "df.head()"
   ]
  },
  {
   "cell_type": "markdown",
   "metadata": {},
   "source": [
    "### Save out edited data into data/processed for use in analysis notebook"
   ]
  },
  {
   "cell_type": "code",
   "execution_count": null,
   "metadata": {},
   "outputs": [],
   "source": [
    "df.to_csv(\"../data/processed/topline.csv\")\n"
   ]
  }
 ],
 "metadata": {
  "kernelspec": {
   "display_name": "Python 3",
   "language": "python",
   "name": "python3"
  },
  "language_info": {
   "codemirror_mode": {
    "name": "ipython",
    "version": 3
   },
   "file_extension": ".py",
   "mimetype": "text/x-python",
   "name": "python",
   "nbconvert_exporter": "python",
   "pygments_lexer": "ipython3",
   "version": "3.7.1"
  }
 },
 "nbformat": 4,
 "nbformat_minor": 2
}
