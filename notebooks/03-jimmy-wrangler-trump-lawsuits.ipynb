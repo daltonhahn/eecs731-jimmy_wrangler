{
 "cells": [
  {
   "cell_type": "markdown",
   "metadata": {},
   "source": [
    "# Jimmy Wrangler, Data Explorer\n",
    "\n",
    "Dalton Hahn (2762306)\n",
    "\n",
    "## Donald Trump Lawsuits\n",
    "https://raw.githubusercontent.com/fivethirtyeight/data/master/trump-lawsuits/trump-lawsuits.csv"
   ]
  },
  {
   "cell_type": "markdown",
   "metadata": {},
   "source": [
    "## Exploratory Data Analysis\n",
    "My idea is to examine the three datasets to see if there is any correlation or connection between President Trump's tweets and the lawsuits he and his company have been involved in.  Additionally, I would like to see if there is any correlation or connection between his tweets and his overall approval rating."
   ]
  },
  {
   "cell_type": "code",
   "execution_count": 1,
   "metadata": {},
   "outputs": [],
   "source": [
    "import pandas as pd\n",
    "import numpy as np\n",
    "import datetime as dt\n",
    "import seaborn as sns\n",
    "import matplotlib.pyplot as plt\n",
    "import math\n",
    "from statistics import mean, stdev"
   ]
  },
  {
   "cell_type": "markdown",
   "metadata": {},
   "source": [
    "## Read in the Data"
   ]
  },
  {
   "cell_type": "code",
   "execution_count": 2,
   "metadata": {},
   "outputs": [],
   "source": [
    "df = pd.read_csv(\"../data/external/trump-lawsuits.csv\")"
   ]
  },
  {
   "cell_type": "code",
   "execution_count": 3,
   "metadata": {},
   "outputs": [
    {
     "data": {
      "text/html": [
       "<div>\n",
       "<style scoped>\n",
       "    .dataframe tbody tr th:only-of-type {\n",
       "        vertical-align: middle;\n",
       "    }\n",
       "\n",
       "    .dataframe tbody tr th {\n",
       "        vertical-align: top;\n",
       "    }\n",
       "\n",
       "    .dataframe thead th {\n",
       "        text-align: right;\n",
       "    }\n",
       "</style>\n",
       "<table border=\"1\" class=\"dataframe\">\n",
       "  <thead>\n",
       "    <tr style=\"text-align: right;\">\n",
       "      <th></th>\n",
       "      <th>docketNumber</th>\n",
       "      <th>dateFiled</th>\n",
       "      <th>caseName</th>\n",
       "      <th>plaintiff</th>\n",
       "      <th>defendant</th>\n",
       "      <th>currentLocation</th>\n",
       "      <th>previousLocation</th>\n",
       "      <th>jurisdiction</th>\n",
       "      <th>judge</th>\n",
       "      <th>nature</th>\n",
       "      <th>TrumpCategory</th>\n",
       "      <th>capacity</th>\n",
       "      <th>type</th>\n",
       "      <th>issue</th>\n",
       "      <th>docketOrig</th>\n",
       "      <th>status</th>\n",
       "    </tr>\n",
       "  </thead>\n",
       "  <tbody>\n",
       "    <tr>\n",
       "      <th>0</th>\n",
       "      <td>2:18-cv-02217</td>\n",
       "      <td>2018-03-06</td>\n",
       "      <td>Clifford v. Trump</td>\n",
       "      <td>Stephanie Clifford</td>\n",
       "      <td>Donald J. Trump; Essential Consultants LLC; Mi...</td>\n",
       "      <td>District Court, Central District of California</td>\n",
       "      <td>NaN</td>\n",
       "      <td>1.0</td>\n",
       "      <td>S. James Otero; Frederick Mumm</td>\n",
       "      <td>190.0</td>\n",
       "      <td>1</td>\n",
       "      <td>1</td>\n",
       "      <td>2</td>\n",
       "      <td>2016 Trump campaign</td>\n",
       "      <td>NaN</td>\n",
       "      <td>2</td>\n",
       "    </tr>\n",
       "  </tbody>\n",
       "</table>\n",
       "</div>"
      ],
      "text/plain": [
       "    docketNumber   dateFiled           caseName           plaintiff  \\\n",
       "0  2:18-cv-02217  2018-03-06  Clifford v. Trump  Stephanie Clifford   \n",
       "\n",
       "                                           defendant  \\\n",
       "0  Donald J. Trump; Essential Consultants LLC; Mi...   \n",
       "\n",
       "                                  currentLocation previousLocation  \\\n",
       "0  District Court, Central District of California              NaN   \n",
       "\n",
       "   jurisdiction                           judge  nature  TrumpCategory  \\\n",
       "0           1.0  S. James Otero; Frederick Mumm   190.0              1   \n",
       "\n",
       "   capacity  type                issue docketOrig  status  \n",
       "0         1     2  2016 Trump campaign        NaN       2  "
      ]
     },
     "execution_count": 3,
     "metadata": {},
     "output_type": "execute_result"
    }
   ],
   "source": [
    "df.head(1)"
   ]
  }
 ],
 "metadata": {
  "kernelspec": {
   "display_name": "Python 3",
   "language": "python",
   "name": "python3"
  },
  "language_info": {
   "codemirror_mode": {
    "name": "ipython",
    "version": 3
   },
   "file_extension": ".py",
   "mimetype": "text/x-python",
   "name": "python",
   "nbconvert_exporter": "python",
   "pygments_lexer": "ipython3",
   "version": "3.7.1"
  }
 },
 "nbformat": 4,
 "nbformat_minor": 2
}
