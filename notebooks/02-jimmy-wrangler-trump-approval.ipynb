{
 "cells": [
  {
   "cell_type": "markdown",
   "metadata": {},
   "source": [
    "# Jimmy Wrangler, Data Explorer\n",
    "\n",
    "Dalton Hahn (2762306)\n",
    "\n",
    "## Donald Trump Approval Ratings (Job approval rating and trendline)\n",
    "https://projects.fivethirtyeight.com/trump-approval-data/approval_polllist.csv\n",
    "https://projects.fivethirtyeight.com/trump-approval-data/approval_topline.csv"
   ]
  },
  {
   "cell_type": "markdown",
   "metadata": {},
   "source": [
    "## Exploratory Data Analysis\n",
    "My idea is to examine the three datasets to see if there is any correlation or connection between President Trump's tweets and the lawsuits he and his company have been involved in.  Additionally, I would like to see if there is any correlation or connection between his tweets and his overall approval rating."
   ]
  },
  {
   "cell_type": "code",
   "execution_count": 1,
   "metadata": {},
   "outputs": [],
   "source": [
    "import pandas as pd\n",
    "import numpy as np\n",
    "import datetime as dt\n",
    "import seaborn as sns\n",
    "import matplotlib.pyplot as plt\n",
    "import math\n",
    "from statistics import mean, stdev"
   ]
  },
  {
   "cell_type": "markdown",
   "metadata": {},
   "source": [
    "## Read in the Data"
   ]
  },
  {
   "cell_type": "code",
   "execution_count": 2,
   "metadata": {},
   "outputs": [],
   "source": [
    "df_top = pd.read_csv(\"../data/external/approval_topline.csv\")\n",
    "df_poll = pd.read_csv(\"../data/external/approval_polllist.csv\")"
   ]
  },
  {
   "cell_type": "code",
   "execution_count": 3,
   "metadata": {},
   "outputs": [
    {
     "data": {
      "text/html": [
       "<div>\n",
       "<style scoped>\n",
       "    .dataframe tbody tr th:only-of-type {\n",
       "        vertical-align: middle;\n",
       "    }\n",
       "\n",
       "    .dataframe tbody tr th {\n",
       "        vertical-align: top;\n",
       "    }\n",
       "\n",
       "    .dataframe thead th {\n",
       "        text-align: right;\n",
       "    }\n",
       "</style>\n",
       "<table border=\"1\" class=\"dataframe\">\n",
       "  <thead>\n",
       "    <tr style=\"text-align: right;\">\n",
       "      <th></th>\n",
       "      <th>president</th>\n",
       "      <th>subgroup</th>\n",
       "      <th>modeldate</th>\n",
       "      <th>approve_estimate</th>\n",
       "      <th>approve_hi</th>\n",
       "      <th>approve_lo</th>\n",
       "      <th>disapprove_estimate</th>\n",
       "      <th>disapprove_hi</th>\n",
       "      <th>disapprove_lo</th>\n",
       "      <th>timestamp</th>\n",
       "    </tr>\n",
       "  </thead>\n",
       "  <tbody>\n",
       "    <tr>\n",
       "      <th>0</th>\n",
       "      <td>Donald Trump</td>\n",
       "      <td>Voters</td>\n",
       "      <td>9/10/2019</td>\n",
       "      <td>42.38458</td>\n",
       "      <td>46.79176</td>\n",
       "      <td>37.9774</td>\n",
       "      <td>53.32431</td>\n",
       "      <td>56.70696</td>\n",
       "      <td>49.94167</td>\n",
       "      <td>09:39:21 10 Sep 2019</td>\n",
       "    </tr>\n",
       "  </tbody>\n",
       "</table>\n",
       "</div>"
      ],
      "text/plain": [
       "      president subgroup  modeldate  approve_estimate  approve_hi  approve_lo  \\\n",
       "0  Donald Trump   Voters  9/10/2019          42.38458    46.79176     37.9774   \n",
       "\n",
       "   disapprove_estimate  disapprove_hi  disapprove_lo             timestamp  \n",
       "0             53.32431       56.70696       49.94167  09:39:21 10 Sep 2019  "
      ]
     },
     "execution_count": 3,
     "metadata": {},
     "output_type": "execute_result"
    }
   ],
   "source": [
    "df_top.head(1)"
   ]
  },
  {
   "cell_type": "code",
   "execution_count": 4,
   "metadata": {},
   "outputs": [
    {
     "data": {
      "text/html": [
       "<div>\n",
       "<style scoped>\n",
       "    .dataframe tbody tr th:only-of-type {\n",
       "        vertical-align: middle;\n",
       "    }\n",
       "\n",
       "    .dataframe tbody tr th {\n",
       "        vertical-align: top;\n",
       "    }\n",
       "\n",
       "    .dataframe thead th {\n",
       "        text-align: right;\n",
       "    }\n",
       "</style>\n",
       "<table border=\"1\" class=\"dataframe\">\n",
       "  <thead>\n",
       "    <tr style=\"text-align: right;\">\n",
       "      <th></th>\n",
       "      <th>president</th>\n",
       "      <th>subgroup</th>\n",
       "      <th>modeldate</th>\n",
       "      <th>startdate</th>\n",
       "      <th>enddate</th>\n",
       "      <th>pollster</th>\n",
       "      <th>grade</th>\n",
       "      <th>samplesize</th>\n",
       "      <th>population</th>\n",
       "      <th>weight</th>\n",
       "      <th>...</th>\n",
       "      <th>disapprove</th>\n",
       "      <th>adjusted_approve</th>\n",
       "      <th>adjusted_disapprove</th>\n",
       "      <th>multiversions</th>\n",
       "      <th>tracking</th>\n",
       "      <th>url</th>\n",
       "      <th>poll_id</th>\n",
       "      <th>question_id</th>\n",
       "      <th>createddate</th>\n",
       "      <th>timestamp</th>\n",
       "    </tr>\n",
       "  </thead>\n",
       "  <tbody>\n",
       "    <tr>\n",
       "      <th>0</th>\n",
       "      <td>Donald Trump</td>\n",
       "      <td>All polls</td>\n",
       "      <td>9/10/2019</td>\n",
       "      <td>1/20/2017</td>\n",
       "      <td>1/22/2017</td>\n",
       "      <td>Gallup</td>\n",
       "      <td>B</td>\n",
       "      <td>1500.0</td>\n",
       "      <td>a</td>\n",
       "      <td>0.245429</td>\n",
       "      <td>...</td>\n",
       "      <td>45.0</td>\n",
       "      <td>46.13177</td>\n",
       "      <td>43.29169</td>\n",
       "      <td>NaN</td>\n",
       "      <td>T</td>\n",
       "      <td>http://www.gallup.com/poll/201617/gallup-daily...</td>\n",
       "      <td>49253</td>\n",
       "      <td>77265</td>\n",
       "      <td>1/23/2017</td>\n",
       "      <td>09:37:40 10 Sep 2019</td>\n",
       "    </tr>\n",
       "  </tbody>\n",
       "</table>\n",
       "<p>1 rows × 22 columns</p>\n",
       "</div>"
      ],
      "text/plain": [
       "      president   subgroup  modeldate  startdate    enddate pollster grade  \\\n",
       "0  Donald Trump  All polls  9/10/2019  1/20/2017  1/22/2017   Gallup     B   \n",
       "\n",
       "   samplesize population    weight          ...           disapprove  \\\n",
       "0      1500.0          a  0.245429          ...                 45.0   \n",
       "\n",
       "   adjusted_approve  adjusted_disapprove  multiversions  tracking  \\\n",
       "0          46.13177             43.29169            NaN         T   \n",
       "\n",
       "                                                 url poll_id question_id  \\\n",
       "0  http://www.gallup.com/poll/201617/gallup-daily...   49253       77265   \n",
       "\n",
       "   createddate             timestamp  \n",
       "0    1/23/2017  09:37:40 10 Sep 2019  \n",
       "\n",
       "[1 rows x 22 columns]"
      ]
     },
     "execution_count": 4,
     "metadata": {},
     "output_type": "execute_result"
    }
   ],
   "source": [
    "df_poll.head(1)"
   ]
  }
 ],
 "metadata": {
  "kernelspec": {
   "display_name": "Python 3",
   "language": "python",
   "name": "python3"
  },
  "language_info": {
   "codemirror_mode": {
    "name": "ipython",
    "version": 3
   },
   "file_extension": ".py",
   "mimetype": "text/x-python",
   "name": "python",
   "nbconvert_exporter": "python",
   "pygments_lexer": "ipython3",
   "version": "3.7.1"
  }
 },
 "nbformat": 4,
 "nbformat_minor": 2
}
